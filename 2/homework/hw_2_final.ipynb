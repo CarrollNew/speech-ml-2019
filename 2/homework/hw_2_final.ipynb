{
 "cells": [
  {
   "cell_type": "code",
   "execution_count": 1,
   "metadata": {},
   "outputs": [],
   "source": [
    "import os\n",
    "from os.path import join\n",
    "import torch\n",
    "import torch.nn as nn\n",
    "import torch.nn.functional as F\n",
    "import torch.optim as optim\n",
    "from torch.utils.data import DataLoader, Dataset\n",
    "\n",
    "import numpy as np\n",
    "import pandas as pd\n",
    "import scipy.io.wavfile as wav\n",
    "\n",
    "from laughter_classification.utils import chunks, in_any, interv_to_range, get_sname\n",
    "from laughter_classification.sspnet_data_sampler import SSPNetDataSampler\n",
    "from laughter_prediction.sample_audio import sample_wav_by_time\n",
    "from laughter_prediction.feature_extractors import FeatureExtractor\n",
    "from sklearn import metrics\n",
    "\n",
    "import matplotlib.pyplot as plt\n",
    "import IPython.display\n",
    "from scipy.io import wavfile\n",
    "\n",
    "from tensorboardX import SummaryWriter"
   ]
  },
  {
   "cell_type": "code",
   "execution_count": 2,
   "metadata": {},
   "outputs": [],
   "source": [
    "import wave\n",
    "import contextlib\n",
    "\n",
    "def sampling_data(corpus_root):\n",
    "        feature_extractor = FeatureExtractor()\n",
    "        data_sampler = SSPNetDataSampler(corpus_root)\n",
    "        data = []\n",
    "        for filename in data_sampler.get_valid_wav_paths():\n",
    "            duration = 11\n",
    "            samples_count = 474 # samples.shape[0]\n",
    "            samples = feature_extractor.extract_features(filename)\n",
    "            labels = data_sampler.get_labels_for_file(filename, duration / samples_count)['IS_LAUGHTER'][:-1]\n",
    "            data.append((samples.assign(label = labels)))\n",
    "        return data"
   ]
  },
  {
   "cell_type": "code",
   "execution_count": 3,
   "metadata": {},
   "outputs": [],
   "source": [
    "dataset = sampling_data('vocalizationcorpus/')\n",
    "#dataset = sampling_data('vocalizationcorpus_noisy/')"
   ]
  },
  {
   "cell_type": "code",
   "execution_count": 51,
   "metadata": {},
   "outputs": [],
   "source": [
    "wav_files_count = 2735\n",
    "samples_count = 474\n",
    "features_count = 168\n",
    "\n",
    "data = []\n",
    "for item in dataset:\n",
    "    data.append(item.values.tolist()) \n",
    "data = np.array(data).reshape(wav_files_count, samples_count, features_count)"
   ]
  },
  {
   "cell_type": "code",
   "execution_count": 52,
   "metadata": {},
   "outputs": [],
   "source": [
    "def save_data(data, filename):\n",
    "    for item in data:\n",
    "        df = pd.DataFrame(np.array(item.values.tolist()).reshape(474,168))\n",
    "        df.to_csv(filename, mode='a', sep='\\t', header=False)\n",
    "\n",
    "def read_data(filename):\n",
    "    dff = pd.read_csv(filename, sep=\"\\t\")\n",
    "    data = np.array(dff).reshape(2735, 474, 168)\n",
    "    return data"
   ]
  },
  {
   "cell_type": "code",
   "execution_count": 53,
   "metadata": {},
   "outputs": [],
   "source": [
    "batch_size = 64\n",
    "number = (int)(0.7 * data.shape[0])\n",
    "train_data = data[:number, :, :-1]\n",
    "test_data = data[number :, :, :-1]\n",
    "train_label = data[:number, :, 167]\n",
    "test_label = data[number :, :, 167]"
   ]
  },
  {
   "cell_type": "code",
   "execution_count": 54,
   "metadata": {},
   "outputs": [],
   "source": [
    "train_dl = DataLoader(torch.FloatTensor(train_data), batch_size=batch_size)\n",
    "train_label_dl =  DataLoader(torch.FloatTensor(train_label), batch_size=batch_size)"
   ]
  },
  {
   "cell_type": "code",
   "execution_count": 55,
   "metadata": {},
   "outputs": [],
   "source": [
    "def make_dir(path):\n",
    "    \"\"\" Create a directory if there isn't one already. \"\"\"\n",
    "    try:\n",
    "        os.mkdir(path)\n",
    "    except OSError:\n",
    "        pass"
   ]
  },
  {
   "cell_type": "code",
   "execution_count": 56,
   "metadata": {},
   "outputs": [],
   "source": [
    "iter_num = 1\n",
    "writer = SummaryWriter(comment='laughter recognition')"
   ]
  },
  {
   "cell_type": "code",
   "execution_count": 57,
   "metadata": {},
   "outputs": [],
   "source": [
    "class LSTM(nn.Module):\n",
    "\n",
    "    def __init__(self, input_dim, hidden_dim, batch_size, output_dim=1, num_layers=2):\n",
    "        super(LSTM, self).__init__()\n",
    "        self.input_dim = input_dim\n",
    "        self.hidden_dim = hidden_dim\n",
    "        self.batch_size = batch_size\n",
    "        self.num_layers = num_layers\n",
    "\n",
    "        self.lstm_mfcc = nn.LSTM(39, self.hidden_dim // 2, self.num_layers)\n",
    "        self.linear_tmp = nn.Linear(self.hidden_dim // 2, self.hidden_dim // 2)\n",
    "        self.relu = nn.ReLU()\n",
    "        self.linear_mfcc = nn.Linear(self.hidden_dim // 2, output_dim)\n",
    "        self.lstm = nn.LSTM(128, self.hidden_dim, self.num_layers) \n",
    "        self.linear_tmp2 = nn.Linear(self.hidden_dim * 3 // 2, self.hidden_dim * 3 //2)\n",
    "        self.linear = nn.Linear(self.hidden_dim * 3// 2, output_dim)\n",
    "\n",
    "    def forward(self, input):\n",
    "        input_for_mfcc = input[:, :, :39]\n",
    "        lstm_out_mfcc, self.hidden_mfcc = self.lstm_mfcc(input_for_mfcc)\n",
    "        t = self.linear_tmp(lstm_out_mfcc)\n",
    "        t = self.relu(t)\n",
    "        y_pred_mfcc = self.linear_mfcc(t)\n",
    "        tag_scores_mfcc =  torch.nn.Sigmoid()(y_pred_mfcc)\n",
    "            \n",
    "        input_tmp = input[:, :, 39:]\n",
    "        lstm_out, self.hidden = self.lstm(input_tmp)\n",
    "        r = self.linear_tmp2(torch.cat((lstm_out, lstm_out_mfcc),2))\n",
    "        r = self.relu(r)\n",
    "        r = self.relu(r)\n",
    "        y_pred = self.linear(r)\n",
    "        tag_scores =  torch.nn.Sigmoid()(y_pred)\n",
    "        return tag_scores_mfcc, tag_scores\n",
    "\n"
   ]
  },
  {
   "cell_type": "code",
   "execution_count": 58,
   "metadata": {},
   "outputs": [],
   "source": [
    "def train(model, num_epochs, train_set, train_label, batch_size, learning_rate=0.0001, path_to_pretrained_model=None):\n",
    "    \n",
    "    make_dir('checkpoints')\n",
    "    \n",
    "    # pretrained model must be .pth file\n",
    "    if path_to_pretrained_model is not None:\n",
    "        model.load_state_dict(torch.load(path_to_pretrained_model))\n",
    "    \n",
    "    loss_fn = torch.nn.BCELoss()\n",
    "    optimizer = torch.optim.Adam(model.parameters(), lr=learning_rate)\n",
    "    global iter_num\n",
    "    for epoch in range(num_epochs):\n",
    "        for i, batch in enumerate(train_set):\n",
    "            true_label = train_label[i * batch_size: (i+1) * batch_size]\n",
    "            model.zero_grad()\n",
    "\n",
    "            label_pred_mfcc, label_pred = model(batch)\n",
    "\n",
    "            loss_mfcc = loss_fn(label_pred_mfcc, torch.FloatTensor(true_label).reshape(-1, 474, 1))\n",
    "            loss1 = loss_fn(label_pred,torch.FloatTensor(true_label).reshape(-1, 474, 1))\n",
    "            lossR = loss1 + loss_mfcc\n",
    "            print(epoch, loss1, loss_mfcc, lossR)\n",
    "\n",
    "            \n",
    "            lossR.backward()\n",
    "            optimizer.step()\n",
    "            writer.add_scalar('loss', epoch, loss_mfcc.data.item(), lossR.data.item())\n",
    "            iter_num += 1"
   ]
  },
  {
   "cell_type": "code",
   "execution_count": 20,
   "metadata": {
    "scrolled": true
   },
   "outputs": [],
   "source": [
    "# features_count = 167\n",
    "# hidden_dim = 512\n",
    "# samples_count = 474\n",
    "# model = LSTM(features_count, hidden_dim, batch_size=batch_size)\n",
    "# train(model, 10, train_dl, train_label, batch_size)\n",
    "# train(model, 5 , train_dl, train_label, batch_size, learning_rate=0.00003)\n",
    "# train(model, 5 , train_dl, train_label, batch_size, learning_rate=0.000006)\n",
    "# train(model, 3 , train_dl, train_label, batch_size, learning_rate=0.00001)\n",
    "# train(model, 2 , train_dl, train_label, batch_size, learning_rate=0.00006)\n",
    "# train(model, 2 , train_dl, train_label, batch_size, learning_rate=0.00001)\n",
    "# train(model, 1 , train_dl, train_label, batch_size, learning_rate=0.000005)\n",
    "# train(model, 1 , train_dl, train_label, batch_size, learning_rate=0.000001)\n",
    "# train(model, 1 , train_dl, train_label, batch_size, learning_rate=0.0000005)\n"
   ]
  },
  {
   "cell_type": "markdown",
   "metadata": {},
   "source": [
    "torch.save({\n",
    "    'epoch': 150,\n",
    "    'state_dict': model.state_dict(),\n",
    "    'optimizer' : optimizer.state_dict()\n",
    "}, 'checkpoint_final.pth.tar')"
   ]
  },
  {
   "cell_type": "code",
   "execution_count": 31,
   "metadata": {},
   "outputs": [],
   "source": [
    "######################### test ###################################################"
   ]
  },
  {
   "cell_type": "code",
   "execution_count": 39,
   "metadata": {},
   "outputs": [
    {
     "name": "stdout",
     "output_type": "stream",
     "text": [
      "not noisy\n",
      "AUC = 0.8410836160267141\n"
     ]
    }
   ],
   "source": [
    "##### test not noisy #######\n",
    "\n",
    "print('not noisy')\n",
    "mfcc_results, results = model(torch.FloatTensor(test_data))\n",
    "print('AUC =', metrics.roc_auc_score(test_label.reshape(test_label.shape[0] * 474), results.detach().numpy().reshape(test_label.shape[0] * 474)))"
   ]
  },
  {
   "cell_type": "code",
   "execution_count": 22,
   "metadata": {},
   "outputs": [
    {
     "name": "stdout",
     "output_type": "stream",
     "text": [
      "noisy\n",
      "AUC = 0.8502462722785586\n"
     ]
    }
   ],
   "source": [
    "print('noisy')\n",
    "mfcc_results, results = model(torch.FloatTensor(test_data))\n",
    "print('AUC =', metrics.roc_auc_score(test_label.reshape(test_label.shape[0] * 474), results.detach().numpy().reshape(test_label.shape[0] * 474)))"
   ]
  },
  {
   "cell_type": "code",
   "execution_count": 46,
   "metadata": {},
   "outputs": [
    {
     "name": "stdout",
     "output_type": "stream",
     "text": [
      "Accuracy: 0.9713789399569323\n"
     ]
    }
   ],
   "source": [
    "results_int = np.where(results.detach().numpy().reshape(test_label.shape[0] * 474) >= 0.5, 1, 0)\n",
    "print('Accuracy:', metrics.accuracy_score(test_label.reshape(test_label.shape[0] * 474), results_int))"
   ]
  },
  {
   "cell_type": "code",
   "execution_count": 25,
   "metadata": {},
   "outputs": [],
   "source": [
    "############# test ####################\n",
    "def find_laughter_true_intervals(test_labels):\n",
    "    first_index_laughter = test_labels.tolist().index(1) \n",
    "    last_index_laughter = test_labels[first_index_laughter + 1:].tolist().index(0) + first_index_laughter\n",
    "    return max(0, first_index_laughter - 50), min(test_labels.shape[0], last_index_laughter + 10)\n",
    "\n",
    "def create_plot(wav_number, res_mfcc, true_values):\n",
    "    number_true_values = true_values[wav_number]\n",
    "    number_res_mfcc = res_mfcc[wav_number]\n",
    "    x = [i for i in range(first_index, second_index)]\n",
    "    plt.plot(x, number_res_mfcc.tolist()[first_index: second_index])\n",
    "    plt.plot(x, number_true_values[first_index: second_index], c='green')\n",
    "    plt.show()"
   ]
  },
  {
   "cell_type": "code",
   "execution_count": 132,
   "metadata": {
    "scrolled": false
   },
   "outputs": [
    {
     "data": {
      "image/png": "[encoded data removed]",
      "text/plain": [
       "<Figure size 432x288 with 1 Axes>"
      ]
     },
     "metadata": {
      "needs_background": "light"
     },
     "output_type": "display_data"
    }
   ],
   "source": [
    "# example 1 not noisy only mfcc\n",
    "prob = mfcc_results.reshape(test_label.shape[0], 474)\n",
    "true = test_label.reshape(test_label.shape[0], 474)\n",
    "create_plot(156, prob, true)"
   ]
  },
  {
   "cell_type": "code",
   "execution_count": 148,
   "metadata": {},
   "outputs": [
    {
     "data": {
      "image/png": "[encoded data removed]",
      "text/plain": [
       "<Figure size 432x288 with 1 Axes>"
      ]
     },
     "metadata": {
      "needs_background": "light"
     },
     "output_type": "display_data"
    }
   ],
   "source": [
    "# example 2 not noisy fbank\n",
    "prob = results.reshape(test_label.shape[0], 474)\n",
    "create_plot(43, prob, true)"
   ]
  },
  {
   "cell_type": "code",
   "execution_count": 33,
   "metadata": {},
   "outputs": [
    {
     "data": {
      "image/png": "[encoded data removed]",
      "text/plain": [
       "<Figure size 432x288 with 1 Axes>"
      ]
     },
     "metadata": {
      "needs_background": "light"
     },
     "output_type": "display_data"
    }
   ],
   "source": [
    "##### test noisy #######\n",
    "\n",
    "# example 2 noisy only mfcc\n",
    "prob = mfcc_results.reshape(test_label.shape[0], 474)\n",
    "true = test_label.reshape(test_label.shape[0], 474)\n",
    "create_plot(422, prob, true)"
   ]
  },
  {
   "cell_type": "code",
   "execution_count": 35,
   "metadata": {},
   "outputs": [
    {
     "data": {
      "image/png": "[encoded data removed]",
      "text/plain": [
       "<Figure size 432x288 with 1 Axes>"
      ]
     },
     "metadata": {
      "needs_background": "light"
     },
     "output_type": "display_data"
    }
   ],
   "source": [
    "# example 4 noisy fbank\n",
    "prob = results.reshape(test_label.shape[0], 474)\n",
    "resd = create_plot(101, prob, true)"
   ]
  }
 ],
 "metadata": {
  "kernelspec": {
   "display_name": "Python 3",
   "language": "python",
   "name": "python3"
  },
  "language_info": {
   "codemirror_mode": {
    "name": "ipython",
    "version": 3
   },
   "file_extension": ".py",
   "mimetype": "text/x-python",
   "name": "python",
   "nbconvert_exporter": "python",
   "pygments_lexer": "ipython3",
   "version": "3.6.7"
  }
 },
 "nbformat": 4,
 "nbformat_minor": 2
}
